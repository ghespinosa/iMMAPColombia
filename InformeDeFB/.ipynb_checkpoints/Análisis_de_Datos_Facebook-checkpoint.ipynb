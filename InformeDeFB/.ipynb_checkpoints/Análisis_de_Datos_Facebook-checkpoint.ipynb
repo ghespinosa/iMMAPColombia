{
 "cells": [
  {
   "cell_type": "markdown",
   "metadata": {
    "colab_type": "text",
    "id": "view-in-github"
   },
   "source": [
    "<a href=\"https://colab.research.google.com/github/ghespinosa/iMMAPColombia/blob/master/An%C3%A1lisis_de_Datos_Facebook.ipynb\" target=\"_parent\"><img src=\"https://colab.research.google.com/assets/colab-badge.svg\" alt=\"Open In Colab\"/></a>"
   ]
  },
  {
   "cell_type": "markdown",
   "metadata": {
    "colab_type": "text",
    "id": "hWnQoeOWs-i0"
   },
   "source": [
    "**Lisa Troconis y Gustavo Espinosa** &emsp; &emsp; &emsp; &emsp; &emsp; &emsp; &emsp; &emsp; &emsp;   <img src= \"https://i0.wp.com/immap.org/wp-content/uploads/2016/12/immap-logo-strap2.png?resize=300%2C45&ssl=1\"> <br />\n",
    "\n",
    "<img src= \"https://cdn3.iconfinder.com/data/icons/facebook-ui-flat/48/Facebook_UI-03-512.png\"> <br />\n",
    "\n",
    "*Last updated: July 23th 2020*\n",
    "\n",
    "# Análisis de Datos Facebook\n",
    "\n",
    "<br />\n",
    "\n",
    "**OVERVIEW:** \n",
    "- ...\n",
    "\n",
    "**TO-DO:**\n",
    "- En Excel podrían usar BuscarV para asignar a cada municipio el total de la población en 2020 y calcular la tasa de venezolanos por 100.000 habitantes.\n",
    "\n",
    "\n",
    "*See:* \n",
    "- https://github.com/ghespinosa/\n",
    "- https://docs.google.com/document/d/1OCSBBmZ-Qjr8uSAr6ed_ihutUgX0QZi87UDbyRq_gUM/edit?usp=sharing\n"
   ]
  },
  {
   "cell_type": "code",
   "execution_count": null,
   "metadata": {
    "colab": {},
    "colab_type": "code",
    "id": "oBj7dna9s8Ib"
   },
   "outputs": [],
   "source": [
    "import pandas as pd"
   ]
  },
  {
   "cell_type": "code",
   "execution_count": null,
   "metadata": {
    "colab": {
     "base_uri": "https://localhost:8080/",
     "height": 473
    },
    "colab_type": "code",
    "id": "GL_70yxl1TVi",
    "outputId": "2cd25ea3-fe88-4f10-c9c5-821000e387de"
   },
   "outputs": [
    {
     "name": "stderr",
     "output_type": "stream",
     "text": [
      "/usr/local/lib/python3.6/dist-packages/ipykernel_launcher.py:1: ParserWarning: Falling back to the 'python' engine because the 'c' engine does not support regex separators (separators > 1 char and different from '\\s+' are interpreted as regex); you can avoid this warning by specifying engine='python'.\n",
      "  \"\"\"Entry point for launching an IPython kernel.\n"
     ]
    },
    {
     "data": {
      "text/html": [
       "<div>\n",
       "<style scoped>\n",
       "    .dataframe tbody tr th:only-of-type {\n",
       "        vertical-align: middle;\n",
       "    }\n",
       "\n",
       "    .dataframe tbody tr th {\n",
       "        vertical-align: top;\n",
       "    }\n",
       "\n",
       "    .dataframe thead th {\n",
       "        text-align: right;\n",
       "    }\n",
       "</style>\n",
       "<table border=\"1\" class=\"dataframe\">\n",
       "  <thead>\n",
       "    <tr style=\"text-align: right;\">\n",
       "      <th></th>\n",
       "      <th>Grupos de edad;Ambos Sexos</th>\n",
       "    </tr>\n",
       "  </thead>\n",
       "  <tbody>\n",
       "    <tr>\n",
       "      <th>0</th>\n",
       "      <td>Nacional;</td>\n",
       "    </tr>\n",
       "    <tr>\n",
       "      <th>1</th>\n",
       "      <td>Total;50.372.424</td>\n",
       "    </tr>\n",
       "    <tr>\n",
       "      <th>2</th>\n",
       "      <td>00-04;3.927.256</td>\n",
       "    </tr>\n",
       "    <tr>\n",
       "      <th>3</th>\n",
       "      <td>05-09;3.936.569</td>\n",
       "    </tr>\n",
       "    <tr>\n",
       "      <th>4</th>\n",
       "      <td>10-14;3.975.771</td>\n",
       "    </tr>\n",
       "    <tr>\n",
       "      <th>...</th>\n",
       "      <td>...</td>\n",
       "    </tr>\n",
       "    <tr>\n",
       "      <th>26583</th>\n",
       "      <td>80-84;232</td>\n",
       "    </tr>\n",
       "    <tr>\n",
       "      <th>26584</th>\n",
       "      <td>85-89;110</td>\n",
       "    </tr>\n",
       "    <tr>\n",
       "      <th>26585</th>\n",
       "      <td>90-94;44</td>\n",
       "    </tr>\n",
       "    <tr>\n",
       "      <th>26586</th>\n",
       "      <td>95-99;16</td>\n",
       "    </tr>\n",
       "    <tr>\n",
       "      <th>26587</th>\n",
       "      <td>100 A�OS Y M�S;18</td>\n",
       "    </tr>\n",
       "  </tbody>\n",
       "</table>\n",
       "<p>26588 rows × 1 columns</p>\n",
       "</div>"
      ],
      "text/plain": [
       "      Grupos de edad;Ambos Sexos\n",
       "0                      Nacional;\n",
       "1               Total;50.372.424\n",
       "2                00-04;3.927.256\n",
       "3                05-09;3.936.569\n",
       "4                10-14;3.975.771\n",
       "...                          ...\n",
       "26583                  80-84;232\n",
       "26584                  85-89;110\n",
       "26585                   90-94;44\n",
       "26586                   95-99;16\n",
       "26587          100 A�OS Y M�S;18\n",
       "\n",
       "[26588 rows x 1 columns]"
      ]
     },
     "execution_count": 62,
     "metadata": {
      "tags": []
     },
     "output_type": "execute_result"
    }
   ],
   "source": [
    "pob = pd.read_csv('/content/drive/Shared drives/iMMAP Colombia/Equipo Datos/Insumos datos/Facebook processing/poblacion.csv',sep = '; ')\n",
    "\n",
    "pob"
   ]
  },
  {
   "cell_type": "code",
   "execution_count": null,
   "metadata": {
    "colab": {},
    "colab_type": "code",
    "id": "DmEKpLLi4DzB"
   },
   "outputs": [],
   "source": [
    "mpio = []\n",
    "valor = []\n",
    "\n",
    "for i in range(0,len(pob)):\n",
    "  mpio.append(pob.iloc[i,0].split(';')[0])\n",
    "  valor.append(pob.iloc[i,0].split(';')[1])\n",
    "\n",
    "d = {'mpio':mpio,\n",
    "     'valor':valor}\n",
    "\n",
    "pob2 = pd.DataFrame(data=d)\n",
    "\n",
    "pob2.iloc[0,:]\n",
    "\n",
    "idx = []\n",
    "\n",
    "boool = pob2['mpio'] == 'Total'\n",
    "\n",
    "boool = boool.tolist()\n",
    "\n",
    "for b in range(0,len(boool)):\n",
    "  if (boool[b]):\n",
    "    idx.append(b-1)\n",
    "    idx.append(b)\n",
    "\n",
    "pob2 = pob2.loc[idx].reset_index(drop=True)\n",
    "\n",
    "for i in range(0,len(pob2)):\n",
    "  if pob2.loc[i,'mpio'] != 'Total':\n",
    "    pob2.loc[i,'valor'] = pob2.loc[i+1,'valor']\n",
    "\n",
    "\n",
    "idx2=[]\n",
    "for i in range(0,len(pob2)):\n",
    "  idx2.append(i%2 == 0)\n",
    "\n",
    "pob2 = pob2[idx2].reset_index(drop=True)"
   ]
  },
  {
   "cell_type": "code",
   "execution_count": null,
   "metadata": {
    "colab": {
     "base_uri": "https://localhost:8080/",
     "height": 419
    },
    "colab_type": "code",
    "id": "-9ATntgL6W-M",
    "outputId": "c9754e28-20d2-479c-9fe5-86405c753b7c"
   },
   "outputs": [
    {
     "data": {
      "text/html": [
       "<div>\n",
       "<style scoped>\n",
       "    .dataframe tbody tr th:only-of-type {\n",
       "        vertical-align: middle;\n",
       "    }\n",
       "\n",
       "    .dataframe tbody tr th {\n",
       "        vertical-align: top;\n",
       "    }\n",
       "\n",
       "    .dataframe thead th {\n",
       "        text-align: right;\n",
       "    }\n",
       "</style>\n",
       "<table border=\"1\" class=\"dataframe\">\n",
       "  <thead>\n",
       "    <tr style=\"text-align: right;\">\n",
       "      <th></th>\n",
       "      <th>mpio</th>\n",
       "      <th>valor</th>\n",
       "    </tr>\n",
       "  </thead>\n",
       "  <tbody>\n",
       "    <tr>\n",
       "      <th>0</th>\n",
       "      <td>Nacional</td>\n",
       "      <td>50.372.424</td>\n",
       "    </tr>\n",
       "    <tr>\n",
       "      <th>1</th>\n",
       "      <td>Antioquia</td>\n",
       "      <td>6.677.930</td>\n",
       "    </tr>\n",
       "    <tr>\n",
       "      <th>2</th>\n",
       "      <td>Atl�ntico</td>\n",
       "      <td>2.722.128</td>\n",
       "    </tr>\n",
       "    <tr>\n",
       "      <th>3</th>\n",
       "      <td>Bogot�, D.C.</td>\n",
       "      <td>7.743.955</td>\n",
       "    </tr>\n",
       "    <tr>\n",
       "      <th>4</th>\n",
       "      <td>Bol�var</td>\n",
       "      <td>2.180.976</td>\n",
       "    </tr>\n",
       "    <tr>\n",
       "      <th>...</th>\n",
       "      <td>...</td>\n",
       "      <td>...</td>\n",
       "    </tr>\n",
       "    <tr>\n",
       "      <th>1151</th>\n",
       "      <td>Yavarat� (ANM)</td>\n",
       "      <td>1.097</td>\n",
       "    </tr>\n",
       "    <tr>\n",
       "      <th>1152</th>\n",
       "      <td>Puerto Carre�o</td>\n",
       "      <td>20.294</td>\n",
       "    </tr>\n",
       "    <tr>\n",
       "      <th>1153</th>\n",
       "      <td>La Primavera</td>\n",
       "      <td>9.608</td>\n",
       "    </tr>\n",
       "    <tr>\n",
       "      <th>1154</th>\n",
       "      <td>Santa Rosal�a</td>\n",
       "      <td>4.193</td>\n",
       "    </tr>\n",
       "    <tr>\n",
       "      <th>1155</th>\n",
       "      <td>Cumaribo</td>\n",
       "      <td>78.863</td>\n",
       "    </tr>\n",
       "  </tbody>\n",
       "</table>\n",
       "<p>1156 rows × 2 columns</p>\n",
       "</div>"
      ],
      "text/plain": [
       "                mpio       valor\n",
       "0           Nacional  50.372.424\n",
       "1          Antioquia   6.677.930\n",
       "2          Atl�ntico   2.722.128\n",
       "3       Bogot�, D.C.   7.743.955\n",
       "4            Bol�var   2.180.976\n",
       "...              ...         ...\n",
       "1151  Yavarat� (ANM)       1.097\n",
       "1152  Puerto Carre�o      20.294\n",
       "1153    La Primavera       9.608\n",
       "1154   Santa Rosal�a       4.193\n",
       "1155        Cumaribo      78.863\n",
       "\n",
       "[1156 rows x 2 columns]"
      ]
     },
     "execution_count": 72,
     "metadata": {
      "tags": []
     },
     "output_type": "execute_result"
    }
   ],
   "source": [
    "pob2.to_csv('poblacion2.csv')\n",
    "pob2"
   ]
  }
 ],
 "metadata": {
  "colab": {
   "authorship_tag": "ABX9TyNG5Ia0BSG95D8po8IzUW6L",
   "collapsed_sections": [],
   "include_colab_link": true,
   "mount_file_id": "1CbxfyD7pv-i21MyieS5QuVc9inZROt93",
   "name": "Análisis de Datos Facebook.ipynb",
   "provenance": [],
   "toc_visible": true
  },
  "kernelspec": {
   "display_name": "Python 3",
   "language": "python",
   "name": "python3"
  },
  "language_info": {
   "codemirror_mode": {
    "name": "ipython",
    "version": 3
   },
   "file_extension": ".py",
   "mimetype": "text/x-python",
   "name": "python",
   "nbconvert_exporter": "python",
   "pygments_lexer": "ipython3",
   "version": "3.8.4"
  }
 },
 "nbformat": 4,
 "nbformat_minor": 4
}
